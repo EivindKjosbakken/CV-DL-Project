{
 "cells": [
  {
   "cell_type": "code",
   "execution_count": 1,
   "metadata": {},
   "outputs": [
    {
     "name": "stdout",
     "output_type": "stream",
     "text": [
      "c:\\Users\\eivin\\NTNU vår 22 lokal\\DDL\\DDL Project\\SSD\n"
     ]
    }
   ],
   "source": [
    "import matplotlib.pyplot as plt\n",
    "import matplotlib\n",
    "import numpy as np\n",
    "import os\n",
    "import sys\n",
    "sys.path.append(os.path.dirname(os.getcwd())) # Insert all modules from the folder above\n",
    "print(os.path.dirname(os.getcwd())) # Insert all modules from the folder above)\n",
    "from tops.config import LazyConfig, instantiate\n"
   ]
  },
  {
   "cell_type": "code",
   "execution_count": 2,
   "metadata": {},
   "outputs": [],
   "source": [
    "def plot_bbox(ax, box, color, circle=True):\n",
    "    cx, cy, w, h = box\n",
    "    cx *= cfg.train.imshape[1]\n",
    "    cy *= cfg.train.imshape[0]\n",
    "    w *= cfg.train.imshape[1]\n",
    "    h *= cfg.train.imshape[0]\n",
    "    x1, y1 = cx + w/2, cy + h/2\n",
    "    x0, y0 = cx - w/2, cy - h/2\n",
    "    if circle:\n",
    "        ax.add_artist(matplotlib.patches.Ellipse([cx, cy], w,h, alpha=.1, color=color))\n",
    "        plt.plot(cx, cy, f\"o{color}\")\n",
    "    else:\n",
    "        plt.plot([x0, x0, x1, x1, x0],[y0, y1, y1, y0, y0], f\"{color}\", alpha=.5)\n",
    "        \n",
    "def get_num_boxes_in_fmap(idx):\n",
    "    boxes_per_location = 2 + 2*len(cfg.anchors.aspect_ratios[idx])\n",
    "    feature_map_size = cfg.anchors.feature_sizes[idx]\n",
    "    return int(boxes_per_location * np.prod(feature_map_size))"
   ]
  },
  {
   "cell_type": "code",
   "execution_count": 3,
   "metadata": {},
   "outputs": [
    {
     "ename": "ModuleNotFoundError",
     "evalue": "No module named 'torchvision.transforms.GaussianBlur'",
     "output_type": "error",
     "traceback": [
      "\u001b[1;31m---------------------------------------------------------------------------\u001b[0m",
      "\u001b[1;31mModuleNotFoundError\u001b[0m                       Traceback (most recent call last)",
      "\u001b[1;32mc:\\Users\\eivin\\NTNU vår 22 lokal\\DDL\\DDL Project\\SSD\\notebooks\\visualize_priors.ipynb Cell 3'\u001b[0m in \u001b[0;36m<cell line: 1>\u001b[1;34m()\u001b[0m\n\u001b[1;32m----> <a href='vscode-notebook-cell:/c%3A/Users/eivin/NTNU%20v%C3%A5r%2022%20lokal/DDL/DDL%20Project/SSD/notebooks/visualize_priors.ipynb#ch0000002?line=0'>1</a>\u001b[0m cfg \u001b[39m=\u001b[39m LazyConfig\u001b[39m.\u001b[39;49mload(\u001b[39m\"\u001b[39;49m\u001b[39m../configs/ssd300.py\u001b[39;49m\u001b[39m\"\u001b[39;49m)\n\u001b[0;32m      <a href='vscode-notebook-cell:/c%3A/Users/eivin/NTNU%20v%C3%A5r%2022%20lokal/DDL/DDL%20Project/SSD/notebooks/visualize_priors.ipynb#ch0000002?line=1'>2</a>\u001b[0m anchors \u001b[39m=\u001b[39m instantiate(cfg\u001b[39m.\u001b[39manchors)(order\u001b[39m=\u001b[39m\u001b[39m\"\u001b[39m\u001b[39mxywh\u001b[39m\u001b[39m\"\u001b[39m)\n\u001b[0;32m      <a href='vscode-notebook-cell:/c%3A/Users/eivin/NTNU%20v%C3%A5r%2022%20lokal/DDL/DDL%20Project/SSD/notebooks/visualize_priors.ipynb#ch0000002?line=2'>3</a>\u001b[0m \u001b[39mprint\u001b[39m(\u001b[39m\"\u001b[39m\u001b[39mNumber of anchors:\u001b[39m\u001b[39m\"\u001b[39m, \u001b[39mlen\u001b[39m(anchors))\n",
      "File \u001b[1;32mc:\\Users\\eivin\\NTNU vår 22 lokal\\DDL\\DDL Project\\SSD\\tops\\config\\lazy.py:211\u001b[0m, in \u001b[0;36mLazyConfig.load\u001b[1;34m(filename, keys)\u001b[0m\n\u001b[0;32m    <a href='file:///c%3A/Users/eivin/NTNU%20v%C3%A5r%2022%20lokal/DDL/DDL%20Project/SSD/tops/config/lazy.py?line=206'>207</a>\u001b[0m             content \u001b[39m=\u001b[39m f\u001b[39m.\u001b[39mread()\n\u001b[0;32m    <a href='file:///c%3A/Users/eivin/NTNU%20v%C3%A5r%2022%20lokal/DDL/DDL%20Project/SSD/tops/config/lazy.py?line=207'>208</a>\u001b[0m         \u001b[39m# Compile first with filename to:\u001b[39;00m\n\u001b[0;32m    <a href='file:///c%3A/Users/eivin/NTNU%20v%C3%A5r%2022%20lokal/DDL/DDL%20Project/SSD/tops/config/lazy.py?line=208'>209</a>\u001b[0m         \u001b[39m# 1. make filename appears in stacktrace\u001b[39;00m\n\u001b[0;32m    <a href='file:///c%3A/Users/eivin/NTNU%20v%C3%A5r%2022%20lokal/DDL/DDL%20Project/SSD/tops/config/lazy.py?line=209'>210</a>\u001b[0m         \u001b[39m# 2. make load_rel able to find its parent's (possibly remote) location\u001b[39;00m\n\u001b[1;32m--> <a href='file:///c%3A/Users/eivin/NTNU%20v%C3%A5r%2022%20lokal/DDL/DDL%20Project/SSD/tops/config/lazy.py?line=210'>211</a>\u001b[0m         exec(\u001b[39mcompile\u001b[39;49m(content, filename, \u001b[39m\"\u001b[39;49m\u001b[39mexec\u001b[39;49m\u001b[39m\"\u001b[39;49m), module_namespace)\n\u001b[0;32m    <a href='file:///c%3A/Users/eivin/NTNU%20v%C3%A5r%2022%20lokal/DDL/DDL%20Project/SSD/tops/config/lazy.py?line=211'>212</a>\u001b[0m     ret \u001b[39m=\u001b[39m module_namespace\n\u001b[0;32m    <a href='file:///c%3A/Users/eivin/NTNU%20v%C3%A5r%2022%20lokal/DDL/DDL%20Project/SSD/tops/config/lazy.py?line=212'>213</a>\u001b[0m \u001b[39melse\u001b[39;00m:\n",
      "File \u001b[1;32mc:\\Users\\eivin\\NTNU vår 22 lokal\\DDL\\DDL Project\\SSD\\configs\\ssd300.py:8\u001b[0m, in \u001b[0;36m<module>\u001b[1;34m\u001b[0m\n\u001b[0;32m      <a href='file:///c%3A/Users/eivin/NTNU%20v%C3%A5r%2022%20lokal/DDL/DDL%20Project/SSD/configs/ssd300.py?line=5'>6</a>\u001b[0m \u001b[39mfrom\u001b[39;00m \u001b[39mssd\u001b[39;00m\u001b[39m.\u001b[39;00m\u001b[39mdata\u001b[39;00m\u001b[39m.\u001b[39;00m\u001b[39mmnist\u001b[39;00m \u001b[39mimport\u001b[39;00m MNISTDetectionDataset\n\u001b[0;32m      <a href='file:///c%3A/Users/eivin/NTNU%20v%C3%A5r%2022%20lokal/DDL/DDL%20Project/SSD/configs/ssd300.py?line=6'>7</a>\u001b[0m \u001b[39mfrom\u001b[39;00m \u001b[39mssd\u001b[39;00m \u001b[39mimport\u001b[39;00m utils\n\u001b[1;32m----> <a href='file:///c%3A/Users/eivin/NTNU%20v%C3%A5r%2022%20lokal/DDL/DDL%20Project/SSD/configs/ssd300.py?line=7'>8</a>\u001b[0m \u001b[39mfrom\u001b[39;00m \u001b[39mssd\u001b[39;00m\u001b[39m.\u001b[39;00m\u001b[39mdata\u001b[39;00m\u001b[39m.\u001b[39;00m\u001b[39mtransforms\u001b[39;00m \u001b[39mimport\u001b[39;00m Normalize, ToTensor, GroundTruthBoxesToAnchors\n\u001b[0;32m      <a href='file:///c%3A/Users/eivin/NTNU%20v%C3%A5r%2022%20lokal/DDL/DDL%20Project/SSD/configs/ssd300.py?line=8'>9</a>\u001b[0m \u001b[39mfrom\u001b[39;00m \u001b[39m.\u001b[39;00m\u001b[39mutils\u001b[39;00m \u001b[39mimport\u001b[39;00m get_dataset_dir, get_output_dir\n\u001b[0;32m     <a href='file:///c%3A/Users/eivin/NTNU%20v%C3%A5r%2022%20lokal/DDL/DDL%20Project/SSD/configs/ssd300.py?line=11'>12</a>\u001b[0m \u001b[39m#to easiliy be able to tune this\u001b[39;00m\n",
      "File \u001b[1;32mc:\\Users\\eivin\\NTNU vår 22 lokal\\DDL\\DDL Project\\SSD\\tops\\config\\lazy.py:154\u001b[0m, in \u001b[0;36m_patch_import.<locals>.new_import\u001b[1;34m(name, globals, locals, fromlist, level)\u001b[0m\n\u001b[0;32m    <a href='file:///c%3A/Users/eivin/NTNU%20v%C3%A5r%2022%20lokal/DDL/DDL%20Project/SSD/tops/config/lazy.py?line=151'>152</a>\u001b[0m         module\u001b[39m.\u001b[39m\u001b[39m__dict__\u001b[39m[name] \u001b[39m=\u001b[39m val\n\u001b[0;32m    <a href='file:///c%3A/Users/eivin/NTNU%20v%C3%A5r%2022%20lokal/DDL/DDL%20Project/SSD/tops/config/lazy.py?line=152'>153</a>\u001b[0m     \u001b[39mreturn\u001b[39;00m module\n\u001b[1;32m--> <a href='file:///c%3A/Users/eivin/NTNU%20v%C3%A5r%2022%20lokal/DDL/DDL%20Project/SSD/tops/config/lazy.py?line=153'>154</a>\u001b[0m \u001b[39mreturn\u001b[39;00m old_import(name, \u001b[39mglobals\u001b[39;49m, \u001b[39mlocals\u001b[39;49m, fromlist\u001b[39m=\u001b[39;49mfromlist, level\u001b[39m=\u001b[39;49mlevel)\n",
      "File \u001b[1;32mc:\\Users\\eivin\\NTNU vår 22 lokal\\DDL\\DDL Project\\SSD\\ssd\\data\\transforms\\__init__.py:3\u001b[0m, in \u001b[0;36m<module>\u001b[1;34m\u001b[0m\n\u001b[0;32m      <a href='file:///c%3A/Users/eivin/NTNU%20v%C3%A5r%2022%20lokal/DDL/DDL%20Project/SSD/ssd/data/transforms/__init__.py?line=0'>1</a>\u001b[0m \u001b[39mfrom\u001b[39;00m \u001b[39m.\u001b[39;00m\u001b[39mtransform\u001b[39;00m \u001b[39mimport\u001b[39;00m  ToTensor, RandomSampleCrop, RandomHorizontalFlip, Resize\n\u001b[0;32m      <a href='file:///c%3A/Users/eivin/NTNU%20v%C3%A5r%2022%20lokal/DDL/DDL%20Project/SSD/ssd/data/transforms/__init__.py?line=1'>2</a>\u001b[0m \u001b[39mfrom\u001b[39;00m \u001b[39m.\u001b[39;00m\u001b[39mtarget_transform\u001b[39;00m \u001b[39mimport\u001b[39;00m GroundTruthBoxesToAnchors\n\u001b[1;32m----> <a href='file:///c%3A/Users/eivin/NTNU%20v%C3%A5r%2022%20lokal/DDL/DDL%20Project/SSD/ssd/data/transforms/__init__.py?line=2'>3</a>\u001b[0m \u001b[39mfrom\u001b[39;00m \u001b[39m.\u001b[39;00m\u001b[39mgpu_transforms\u001b[39;00m \u001b[39mimport\u001b[39;00m Normalize, ColorJitter, GaussianBlurr\n",
      "File \u001b[1;32mc:\\Users\\eivin\\NTNU vår 22 lokal\\DDL\\DDL Project\\SSD\\tops\\config\\lazy.py:154\u001b[0m, in \u001b[0;36m_patch_import.<locals>.new_import\u001b[1;34m(name, globals, locals, fromlist, level)\u001b[0m\n\u001b[0;32m    <a href='file:///c%3A/Users/eivin/NTNU%20v%C3%A5r%2022%20lokal/DDL/DDL%20Project/SSD/tops/config/lazy.py?line=151'>152</a>\u001b[0m         module\u001b[39m.\u001b[39m\u001b[39m__dict__\u001b[39m[name] \u001b[39m=\u001b[39m val\n\u001b[0;32m    <a href='file:///c%3A/Users/eivin/NTNU%20v%C3%A5r%2022%20lokal/DDL/DDL%20Project/SSD/tops/config/lazy.py?line=152'>153</a>\u001b[0m     \u001b[39mreturn\u001b[39;00m module\n\u001b[1;32m--> <a href='file:///c%3A/Users/eivin/NTNU%20v%C3%A5r%2022%20lokal/DDL/DDL%20Project/SSD/tops/config/lazy.py?line=153'>154</a>\u001b[0m \u001b[39mreturn\u001b[39;00m old_import(name, \u001b[39mglobals\u001b[39;49m, \u001b[39mlocals\u001b[39;49m, fromlist\u001b[39m=\u001b[39;49mfromlist, level\u001b[39m=\u001b[39;49mlevel)\n",
      "File \u001b[1;32mc:\\Users\\eivin\\NTNU vår 22 lokal\\DDL\\DDL Project\\SSD\\ssd\\data\\transforms\\gpu_transforms.py:3\u001b[0m, in \u001b[0;36m<module>\u001b[1;34m\u001b[0m\n\u001b[0;32m      <a href='file:///c%3A/Users/eivin/NTNU%20v%C3%A5r%2022%20lokal/DDL/DDL%20Project/SSD/ssd/data/transforms/gpu_transforms.py?line=0'>1</a>\u001b[0m \u001b[39mimport\u001b[39;00m \u001b[39mtorch\u001b[39;00m\n\u001b[0;32m      <a href='file:///c%3A/Users/eivin/NTNU%20v%C3%A5r%2022%20lokal/DDL/DDL%20Project/SSD/ssd/data/transforms/gpu_transforms.py?line=1'>2</a>\u001b[0m \u001b[39mimport\u001b[39;00m \u001b[39mtorchvision\u001b[39;00m\n\u001b[1;32m----> <a href='file:///c%3A/Users/eivin/NTNU%20v%C3%A5r%2022%20lokal/DDL/DDL%20Project/SSD/ssd/data/transforms/gpu_transforms.py?line=2'>3</a>\u001b[0m \u001b[39mimport\u001b[39;00m \u001b[39mtorchvision\u001b[39;00m\u001b[39m.\u001b[39;00m\u001b[39mtransforms\u001b[39;00m\u001b[39m.\u001b[39;00m\u001b[39mGaussianBlur\u001b[39;00m\n\u001b[0;32m      <a href='file:///c%3A/Users/eivin/NTNU%20v%C3%A5r%2022%20lokal/DDL/DDL%20Project/SSD/ssd/data/transforms/gpu_transforms.py?line=4'>5</a>\u001b[0m \u001b[39mclass\u001b[39;00m \u001b[39mNormalize\u001b[39;00m(torch\u001b[39m.\u001b[39mnn\u001b[39m.\u001b[39mModule):\n\u001b[0;32m      <a href='file:///c%3A/Users/eivin/NTNU%20v%C3%A5r%2022%20lokal/DDL/DDL%20Project/SSD/ssd/data/transforms/gpu_transforms.py?line=5'>6</a>\u001b[0m     \u001b[39mdef\u001b[39;00m \u001b[39m__init__\u001b[39m(\u001b[39mself\u001b[39m, mean, std):\n",
      "File \u001b[1;32mc:\\Users\\eivin\\NTNU vår 22 lokal\\DDL\\DDL Project\\SSD\\tops\\config\\lazy.py:154\u001b[0m, in \u001b[0;36m_patch_import.<locals>.new_import\u001b[1;34m(name, globals, locals, fromlist, level)\u001b[0m\n\u001b[0;32m    <a href='file:///c%3A/Users/eivin/NTNU%20v%C3%A5r%2022%20lokal/DDL/DDL%20Project/SSD/tops/config/lazy.py?line=151'>152</a>\u001b[0m         module\u001b[39m.\u001b[39m\u001b[39m__dict__\u001b[39m[name] \u001b[39m=\u001b[39m val\n\u001b[0;32m    <a href='file:///c%3A/Users/eivin/NTNU%20v%C3%A5r%2022%20lokal/DDL/DDL%20Project/SSD/tops/config/lazy.py?line=152'>153</a>\u001b[0m     \u001b[39mreturn\u001b[39;00m module\n\u001b[1;32m--> <a href='file:///c%3A/Users/eivin/NTNU%20v%C3%A5r%2022%20lokal/DDL/DDL%20Project/SSD/tops/config/lazy.py?line=153'>154</a>\u001b[0m \u001b[39mreturn\u001b[39;00m old_import(name, \u001b[39mglobals\u001b[39;49m, \u001b[39mlocals\u001b[39;49m, fromlist\u001b[39m=\u001b[39;49mfromlist, level\u001b[39m=\u001b[39;49mlevel)\n",
      "\u001b[1;31mModuleNotFoundError\u001b[0m: No module named 'torchvision.transforms.GaussianBlur'"
     ]
    }
   ],
   "source": [
    "cfg = LazyConfig.load(\"../configs/ssd300.py\")\n",
    "anchors = instantiate(cfg.anchors)(order=\"xywh\")\n",
    "print(\"Number of anchors:\", len(anchors))\n",
    "\n",
    "PLOT_CIRCLE = True\n",
    "fmap_idx_to_visualize = 5\n",
    "print(\"Aspect used for feature map:\", cfg.anchors.aspect_ratios[fmap_idx_to_visualize])\n",
    "# Set which aspect ratio indices we want to visualize\n",
    "aspect_ratio_indices = [0, 1, 2, 3]\n",
    "\n",
    "offset = sum([get_num_boxes_in_fmap(prev_layer) for prev_layer in range(fmap_idx_to_visualize)])"
   ]
  },
  {
   "cell_type": "code",
   "execution_count": null,
   "metadata": {},
   "outputs": [
    {
     "name": "stderr",
     "output_type": "stream",
     "text": [
      "C:\\Users\\mamoo\\AppData\\Local\\Temp/ipykernel_41528/2514598077.py:24: UserWarning: Matplotlib is currently using agg, which is a non-GUI backend, so cannot show the figure.\n",
      "  plt.show()\n"
     ]
    }
   ],
   "source": [
    "fig, ax = plt.subplots()\n",
    "\n",
    "# Set up our scene\n",
    "plt.ylim([-100, cfg.train.imshape[0]+100])\n",
    "plt.xlim([-100, cfg.train.imshape[1]+100])\n",
    "\n",
    "\n",
    "\n",
    "boxes_per_location = 2 + 2*len(cfg.anchors.aspect_ratios[fmap_idx_to_visualize])\n",
    "indices_to_visualize = []\n",
    "colors = []\n",
    "available_colors = [\"r\", \"g\", \"b\", \"y\", \"m\", \"b\",\"w\"]\n",
    "for idx in range(offset, offset + get_num_boxes_in_fmap(fmap_idx_to_visualize)):\n",
    "    for aspect_ratio_idx in aspect_ratio_indices:\n",
    "        if idx % boxes_per_location == aspect_ratio_idx:\n",
    "            indices_to_visualize.append(idx)\n",
    "            colors.append(available_colors[aspect_ratio_idx])\n",
    "\n",
    "ax.add_artist(plt.Rectangle([0, 0], cfg.train.imshape[1], cfg.train.imshape[0]))\n",
    "for i, idx in enumerate(indices_to_visualize):\n",
    "    prior = anchors[idx]\n",
    "    color = colors[i]\n",
    "    plot_bbox(ax, prior, color, PLOT_CIRCLE)\n",
    "plt.show()"
   ]
  },
  {
   "cell_type": "code",
   "execution_count": null,
   "metadata": {},
   "outputs": [],
   "source": []
  }
 ],
 "metadata": {
  "interpreter": {
   "hash": "a277e320864009c46f400ef93d6cfc1c0fe296108885fb0525df305c50602d82"
  },
  "kernelspec": {
   "display_name": "ssd",
   "language": "python",
   "name": "python3"
  },
  "language_info": {
   "codemirror_mode": {
    "name": "ipython",
    "version": 3
   },
   "file_extension": ".py",
   "mimetype": "text/x-python",
   "name": "python",
   "nbconvert_exporter": "python",
   "pygments_lexer": "ipython3",
   "version": "3.8.12"
  }
 },
 "nbformat": 4,
 "nbformat_minor": 4
}
